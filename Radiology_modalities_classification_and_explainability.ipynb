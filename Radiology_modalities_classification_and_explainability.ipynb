{
 "cells": [
  {
   "cell_type": "markdown",
   "metadata": {
    "id": "XbsqYtD999uI"
   },
   "source": [
    "# Taller teórico - práctico sobre redes neuronales\n",
    "\n",
    "Dr. Héctor Henríquez Leighton\n",
    "\n"
   ]
  },
  {
   "cell_type": "code",
   "execution_count": null,
   "metadata": {
    "colab": {
     "base_uri": "https://localhost:8080/"
    },
    "id": "GYpsXs1KIjVz",
    "outputId": "409d503f-e4d3-49cc-b818-53ad2485c5a7"
   },
   "outputs": [],
   "source": [
    "!pip3 install keras-visualizer\n",
    "!pip install lime"
   ]
  },
  {
   "cell_type": "code",
   "execution_count": null,
   "metadata": {
    "id": "zjzgsf1mB6Y1"
   },
   "outputs": [],
   "source": [
    "## Herramientas generales\n",
    "import numpy as np\n",
    "import matplotlib.pyplot as plt\n",
    "from skimage.segmentation import mark_boundaries\n",
    "from sklearn.model_selection import train_test_split\n",
    "from sklearn.metrics import classification_report\n",
    "import cv2\n",
    "import os\n",
    "import pandas as pd\n",
    "from collections import Counter\n",
    "import random\n",
    "\n",
    "## Construcción de modelos\n",
    "import tensorflow as tf\n",
    "from keras import backend as K\n",
    "from tensorflow.keras.models import Model, Sequential\n",
    "from tensorflow.keras import layers, models, regularizers\n",
    "from tensorflow.keras.layers import Dense, Flatten, Dropout, Input, Conv2D, MaxPooling2D, Flatten\n",
    "from tensorflow.keras.applications import ResNet50\n",
    "from tensorflow.keras.optimizers import Adam\n",
    "from tensorflow.keras.utils import plot_model\n",
    "from tensorflow.keras.callbacks import ModelCheckpoint, LearningRateScheduler\n",
    "from tensorflow.keras.preprocessing.image import ImageDataGenerator\n",
    "from tensorflow.keras.metrics import AUC\n",
    "from lime import lime_image\n",
    "\n",
    "import warnings\n",
    "warnings.filterwarnings('ignore')"
   ]
  },
  {
   "cell_type": "code",
   "execution_count": null,
   "metadata": {
    "id": "WZDi0Gma-tfj"
   },
   "outputs": [],
   "source": [
    "## Recorre los directorios y extrae imágenes y sus respectivas etiquetas\n",
    "def read_images(path_dir):\n",
    "  images = []\n",
    "  labels = []\n",
    "  for modality in os.listdir(path_dir):\n",
    "    modality_dir = os.path.join(path_dir, modality)\n",
    "    for exam in os.listdir(modality_dir):\n",
    "      image = cv2.imread(os.path.join(modality_dir, exam))\n",
    "      #image = cv2.resize(image, (32, 32),interpolation = cv2.INTER_LINEAR)\n",
    "      images.append(image)\n",
    "      labels.append(modality)\n",
    "  images = np.array(images)\n",
    "  labels = np.array(labels)\n",
    "  np.random.seed(10)\n",
    "  np.random.shuffle(images)\n",
    "  np.random.seed(10)\n",
    "  np.random.shuffle(labels)\n",
    "  return(images, labels)\n"
   ]
  },
  {
   "cell_type": "code",
   "execution_count": null,
   "metadata": {
    "colab": {
     "base_uri": "https://localhost:8080/"
    },
    "id": "5bbgkWAQGlW-",
    "outputId": "8097ac2b-c53d-46c6-c9bb-699806324ca9"
   },
   "outputs": [],
   "source": [
    "!wget -N \"https://cainvas-static.s3.amazonaws.com/media/user_data/cainvas-admin/MedNIST.zip\"\n",
    "!unzip -qo \"MedNIST.zip\"\n",
    "!rm \"MedNIST.zip\"\n",
    "train_dir = '/content/Medical/Medical_train'\n",
    "test_dir =  '/content/Medical/Medical_test'\n",
    "\n",
    "classes = sorted(os.listdir(train_dir))\n",
    "classes = np.array(classes)\n",
    "print(\"Clases de estudios:\", classes)"
   ]
  },
  {
   "cell_type": "code",
   "execution_count": null,
   "metadata": {
    "colab": {
     "base_uri": "https://localhost:8080/"
    },
    "id": "tIl8VjaPHKQA",
    "outputId": "342ced22-83cf-422e-804e-cf235edd9209"
   },
   "outputs": [],
   "source": [
    "for modality in os.listdir(train_dir):\n",
    "  modality_dir = os.path.join(train_dir, modality)\n",
    "  print(\"Numero de estudios para la clase {}: {}\".format(modality, len(os.listdir(modality_dir))))"
   ]
  },
  {
   "cell_type": "markdown",
   "metadata": {
    "id": "UFrynG-kOoTb"
   },
   "source": [
    "## Lectura y procesamiento de las imágenes"
   ]
  },
  {
   "cell_type": "code",
   "execution_count": null,
   "metadata": {
    "colab": {
     "base_uri": "https://localhost:8080/"
    },
    "id": "_zVPjMXbKl1_",
    "outputId": "e0071393-20da-4101-b1c2-8e0ccbe0639b"
   },
   "outputs": [],
   "source": [
    "### Se leen las imágenes y se asignan a los grupos de entrenamiento y test\n",
    "X_train, y_train = read_images(train_dir)\n",
    "X_test, y_test = read_images(test_dir)\n",
    "\n",
    "### El formato corresponde a imágenes en color de 8 bit\n",
    "### Se normalizan dividiendo por 255, lo que deja valores de pixeles entre 0 y 1\n",
    "### Se cambian a tipo flotante de 32 bits\n",
    "X_train = (X_train/255).astype('float32')\n",
    "X_test = (X_test/255).astype('float32')\n",
    "\n",
    "print(X_train.shape)\n",
    "print(y_train.shape)\n",
    "print(X_test.shape)\n",
    "print(y_test.shape)"
   ]
  },
  {
   "cell_type": "code",
   "execution_count": null,
   "metadata": {
    "colab": {
     "base_uri": "https://localhost:8080/",
     "height": 823
    },
    "id": "7rLBMKSE-01f",
    "outputId": "b1dfa652-4e58-4b7a-a0d8-2f517d4f9a37"
   },
   "outputs": [],
   "source": [
    "## Vsualización de casos aleatorios\n",
    "ROWS = 8\n",
    "fig, axes1 = plt.subplots(ROWS,ROWS,figsize=(10,10))\n",
    "for j in range(ROWS):\n",
    "    for k in range(ROWS):\n",
    "        i = np.random.randint(0, X_train.shape[0])\n",
    "        axes1[j][k].set_axis_off()\n",
    "        axes1[j][k].imshow(X_train[i,:,:,:], cmap='gray', vmin=0, vmax=255)\n",
    "        axes1[j][k].set_title(y_train[i], size=8)"
   ]
  },
  {
   "cell_type": "code",
   "execution_count": null,
   "metadata": {
    "colab": {
     "base_uri": "https://localhost:8080/",
     "height": 669
    },
    "id": "G8QGKPaGdDP3",
    "outputId": "33ba37e5-dfc1-4aad-f1d3-65ca2e1170b2"
   },
   "outputs": [],
   "source": [
    "## Visualización por modalidad\n",
    "#'Hand' 'BreastMRI' 'ChestCT' 'HeadCT' 'AbdomenCT' 'CXR'\n",
    "\n",
    "modality = 'CXR'\n",
    "\n",
    "ROWS = 4\n",
    "fig, axes1 = plt.subplots(ROWS,ROWS,figsize=(8,8))\n",
    "for j in range(ROWS):\n",
    "    for k in range(ROWS):\n",
    "        i = np.random.randint(0, X_train[np.where(y_train == modality)].shape[0])\n",
    "        axes1[j][k].set_axis_off()\n",
    "        axes1[j][k].imshow(X_train[np.where(y_train == modality)][i,:,:,:], cmap='gray', vmin=0, vmax=255)\n",
    "        axes1[j][k].set_title(modality, size=8)\n"
   ]
  },
  {
   "cell_type": "markdown",
   "metadata": {
    "id": "UeHIFn0tHSac"
   },
   "source": [
    "## Procesamiento de las etiquetas"
   ]
  },
  {
   "cell_type": "code",
   "execution_count": null,
   "metadata": {
    "colab": {
     "base_uri": "https://localhost:8080/"
    },
    "id": "99v0dRH3hmtH",
    "outputId": "8991300a-c10e-4d4b-862e-8da0bd9ef992"
   },
   "outputs": [],
   "source": [
    "## Visualización de etiquetas:\n",
    "print(y_train[0:6]) # vemos que las etiquetas son texto"
   ]
  },
  {
   "cell_type": "code",
   "execution_count": null,
   "metadata": {
    "id": "0JPnO0abJijl"
   },
   "outputs": [],
   "source": [
    "### Preprocesamiento de etiquetas\n",
    "\n",
    "train_labels = np.zeros((y_train.shape[0], len(classes)))\n",
    "test_labels = np.zeros((y_test.shape[0], len(classes)))\n",
    "\n",
    "for i in range(train_labels.shape[0]):\n",
    "  train_labels[i, np.where(classes == y_train[i])] = 1\n",
    "\n",
    "for i in range(test_labels.shape[0]):\n",
    "  test_labels[i, np.where(classes == y_test[i])] = 1\n"
   ]
  },
  {
   "cell_type": "code",
   "execution_count": null,
   "metadata": {
    "colab": {
     "base_uri": "https://localhost:8080/",
     "height": 380
    },
    "id": "kMik0blpjf3N",
    "outputId": "3dceeae2-c5cf-43eb-aae5-10990d996024"
   },
   "outputs": [],
   "source": [
    "print(\"clases a predecir:\", classes)\n",
    "print(\"ejemplo primeros 6 casos en formato OneHotEncodding:\\n\", train_labels[0:6])\n",
    "df_visualizacion_clases = pd.DataFrame(train_labels, columns= classes)\n",
    "df_visualizacion_clases.head(6)"
   ]
  },
  {
   "cell_type": "markdown",
   "metadata": {
    "id": "AXeMX5wtJozs"
   },
   "source": [
    "### Algoritmo de data Augmentation y Generador de imágenes"
   ]
  },
  {
   "cell_type": "code",
   "execution_count": null,
   "metadata": {
    "id": "04cavcjuVPrp"
   },
   "outputs": [],
   "source": [
    "### Definición de generador de data augmentation:\n",
    "datagen = ImageDataGenerator(\n",
    "    rotation_range=20,         # Rotación aleatoria de 20 grados\n",
    "    width_shift_range=0.1,     # Desplazamiento horizontal del 10%\n",
    "    height_shift_range=0.1,    # Desplazamiento vertical del 10%\n",
    "    zoom_range=0.2,            # Zoom aleatorio del 20%\n",
    "    horizontal_flip=True,      # Volteo horizontal aleatorio\n",
    "    vertical_flip=True)\n",
    "\n",
    "### Aplicar el generador de data augmentation sobre los datos de entrenamiento:\n",
    "### Nunca se aplican sobre los datos de testeo.\n",
    "### batch_size: cantidad de imágnes que entran\n",
    "\n",
    "train_gen = datagen.flow(X_train, train_labels, batch_size=32)"
   ]
  },
  {
   "cell_type": "markdown",
   "metadata": {
    "id": "128pkQmveHua"
   },
   "source": [
    "### Visualizar las transformaciones para data augmentation"
   ]
  },
  {
   "cell_type": "code",
   "execution_count": null,
   "metadata": {
    "colab": {
     "base_uri": "https://localhost:8080/",
     "height": 530
    },
    "id": "F30aK17OXOXN",
    "outputId": "863127f4-8763-41ad-f06b-961adf35422c"
   },
   "outputs": [],
   "source": [
    "## Se genera una muestra de imágenes para transformar:\n",
    "\n",
    "original_images = []\n",
    "augmented_images = []\n",
    "\n",
    "sample_size = 4\n",
    "\n",
    "for i in range(sample_size):\n",
    "  index = np.random.randint(X_train.shape[0])\n",
    "  augmented_image = next(datagen.flow(X_train[index:index+1,:,:,:], batch_size = 1))\n",
    "  original_images.append(X_train[index,:,:,:])\n",
    "  augmented_images.append(augmented_image.reshape(64,64,3))\n",
    "\n",
    "original_images = np.array(original_images)\n",
    "augmented_images = np.array(augmented_images)\n",
    "\n",
    "\n",
    "plt.figure(figsize=(8,8))\n",
    "for i in range(sample_size):\n",
    "        ax = plt.subplot(2, sample_size, i + 1)\n",
    "        plt.imshow(original_images[i], cmap=\"gray\", vmin=0, vmax=255)\n",
    "        plt.title(\"Original\")\n",
    "        plt.axis(\"off\")\n",
    "\n",
    "        ax = plt.subplot(2, sample_size, i + 1 + sample_size)\n",
    "        plt.imshow(augmented_images[i], cmap=\"gray\", vmin=0, vmax=255)\n",
    "        plt.title(\"Augmented\")\n",
    "        plt.axis(\"off\")\n",
    "plt.show()\n"
   ]
  },
  {
   "cell_type": "markdown",
   "metadata": {
    "id": "I_-Z_nnDCq66"
   },
   "source": [
    "### Construcción Modelo de red neuronal convolucional:\n",
    "* ResNet50:\n",
    "He, K., Zhang, X., Ren, S., & Sun, J. (2016). Deep residual learning for image recognition. Proceedings of the IEEE Conference on Computer Vision and Pattern Recognition (CVPR), 770-778. https://doi.org/10.1109/CVPR.2016.90"
   ]
  },
  {
   "cell_type": "code",
   "execution_count": null,
   "metadata": {
    "colab": {
     "base_uri": "https://localhost:8080/"
    },
    "id": "zt4dZYXtn3AD",
    "outputId": "d701a422-3357-4be7-ad1d-d0f698f360c6"
   },
   "outputs": [],
   "source": [
    "## Cargar el modelo ResNet50 preentrenado en ImageNet, sin las capas superiores\n",
    "base_model = ResNet50(weights='imagenet', include_top=False, input_shape=(64, 64, 3))\n",
    "\n",
    "## Se congelan las capas con los pesos de imagenet\n",
    "base_model.trainable = False\n",
    "\n",
    "## Se agrega una capa superior para la clasificación:\n",
    "x = Flatten()(base_model.output)\n",
    "x = Dense(1024, activation='relu')(x)\n",
    "output = Dense(len(classes), activation='softmax')(x)\n",
    "\n",
    "## Se instancia el modelo\n",
    "model = Model(inputs=base_model.input, outputs=output)\n",
    "\n",
    "#model.summary()"
   ]
  },
  {
   "cell_type": "code",
   "execution_count": null,
   "metadata": {
    "colab": {
     "base_uri": "https://localhost:8080/"
    },
    "id": "aRlSEFOHr2UV",
    "outputId": "07152d4b-9498-4e4f-c9e4-c3e23ab9bebf"
   },
   "outputs": [],
   "source": [
    "EPOCHS = 5\n",
    "BATCH_SIZE = 32\n",
    "LR = 0.005\n",
    "\n",
    "## Reduce la tasa de aprendizaje al avanzar entrenamiento:\n",
    "def scheduler(epoch, learning_rate):\n",
    "  if epoch < 2:\n",
    "    return learning_rate\n",
    "  else:\n",
    "    return learning_rate * np.exp(-0.05)\n",
    "\n",
    "lr_scheduler = LearningRateScheduler(scheduler)\n",
    "\n",
    "### Se guardarán los pesos del modelo que tenga mejor rendimiento\n",
    "### en grupo de test. Se usará val_accuracy\n",
    "checkpoint_filepath = './checkpoint.weights.h5'\n",
    "model_checkpoint_callback = ModelCheckpoint(\n",
    "    filepath=checkpoint_filepath,\n",
    "    save_weights_only=True,\n",
    "    monitor='val_accuracy',\n",
    "    mode='max',\n",
    "    save_best_only=True)\n",
    "\n",
    "## Compilado y entrenamiento\n",
    "model.compile(optimizer=Adam(learning_rate=LR), loss = 'categorical_crossentropy', metrics=['accuracy', AUC(multi_label=True)])\n",
    "history = model.fit(train_gen, epochs= EPOCHS, verbose= 1, batch_size= BATCH_SIZE,\n",
    "                validation_data=(X_test, test_labels), shuffle= True,\n",
    "                callbacks=[model_checkpoint_callback,lr_scheduler])\n",
    "\n",
    "model.load_weights(checkpoint_filepath)"
   ]
  },
  {
   "cell_type": "code",
   "execution_count": null,
   "metadata": {
    "colab": {
     "base_uri": "https://localhost:8080/",
     "height": 887
    },
    "id": "u49msB0WVUJH",
    "outputId": "a5278f5d-0243-4c75-cfb2-dbe004bacc42"
   },
   "outputs": [],
   "source": [
    "accuracy = history.history['accuracy']\n",
    "val_accuracy = history.history['val_accuracy']\n",
    "loss = history.history['loss']\n",
    "val_loss = history.history['val_loss']\n",
    "\n",
    "epochs = range(len(loss))\n",
    "\n",
    "plt.plot(epochs, accuracy, 'bo', label='Training accuracy', color='salmon')\n",
    "plt.plot(epochs, val_accuracy, 'b', label='Validation accuracy', color='dodgerblue')\n",
    "plt.title('Training and validation accuracy')\n",
    "plt.legend()\n",
    "plt.show()\n",
    "\n",
    "plt.plot(epochs, loss, 'bo', label='Training loss', color='salmon')\n",
    "plt.plot(epochs, val_loss, 'b', label='Validation loss', color='dodgerblue')\n",
    "plt.title('Training and validation loss')\n",
    "plt.legend()\n",
    "plt.show()"
   ]
  },
  {
   "cell_type": "markdown",
   "metadata": {
    "id": "tKqbA8QWR7M3"
   },
   "source": [
    "### Probando el modelo"
   ]
  },
  {
   "cell_type": "code",
   "execution_count": null,
   "metadata": {
    "colab": {
     "base_uri": "https://localhost:8080/"
    },
    "id": "GP2xB-JeSC_u",
    "outputId": "dac8008c-6130-4517-bac0-04983a7159fc"
   },
   "outputs": [],
   "source": [
    "pred_scores = model.predict(X_test)\n",
    "y_pred = np.where(pred_scores > 0.5, 1, 0)\n",
    "print(classification_report(test_labels, y_pred, target_names = classes))"
   ]
  },
  {
   "cell_type": "markdown",
   "metadata": {
    "id": "sehwO7Vmfrvl"
   },
   "source": [
    "## Herramienta de explicabilidad"
   ]
  },
  {
   "cell_type": "code",
   "execution_count": null,
   "metadata": {
    "colab": {
     "base_uri": "https://localhost:8080/"
    },
    "id": "KW1cNPFDgBr3",
    "outputId": "c1f5000a-6f66-4113-ad71-4a757190e783"
   },
   "outputs": [],
   "source": [
    "## Tomaremos un ejemplo aleatorio del grupo test\n",
    "\n",
    "index= np.random.randint(0,X_test.shape[0])\n",
    "\n",
    "img_to_explain = X_test[index,:,:,:]\n",
    "\n",
    "## Debe tener geometría de tensor de 4 dimensiones:\n",
    "img_to_array = np.expand_dims(img_to_explain, axis=0)\n",
    "\n",
    "pred_scores = model.predict(img_to_array)\n",
    "\n",
    "print(\"Predicción Modelo:\", classes[np.argmax(pred_scores)])\n",
    "print(\"Respuesta correcta:\", y_test[index])"
   ]
  },
  {
   "cell_type": "code",
   "execution_count": null,
   "metadata": {
    "colab": {
     "base_uri": "https://localhost:8080/",
     "height": 639,
     "referenced_widgets": [
      "7f150428b7be4b9b907d440033052475",
      "fa8e7c1334b04cbd9a0529d6f735955b",
      "82c9549f06104dbea48b555a86d74d62",
      "0405c163553240c1a877882716f08789",
      "2c69149f758a4f699edbb40cd80aafe5",
      "161f5a92d73949a59c2f3745e9d08d20",
      "8b937a45be624b7c904462b0e050af00",
      "0ac84a4f76974cdb8386b740f94a92bd",
      "e58f8e563fe2450598388bd0888f8610",
      "c7a58184e3124314ac0efee0cf0c8d9b",
      "85c950d94dcf42ca8f361adc3cc2f5a2"
     ]
    },
    "id": "6b4qaeNMg9UD",
    "outputId": "3ccbffa0-3e5b-476e-c784-041ec6734909"
   },
   "outputs": [],
   "source": [
    "# Lime Explainer\n",
    "explainer = lime_image.LimeImageExplainer()\n",
    "\n",
    "# Explicacion\n",
    "explanation = explainer.explain_instance(img_to_explain, model.predict, top_labels=1, hide_color=0, num_samples=100)\n",
    "\n",
    "## visualización\n",
    "temp, mask = explanation.get_image_and_mask(explanation.top_labels[0], positive_only=True, num_features=5, hide_rest=True)\n",
    "\n",
    "plt.imshow(mark_boundaries(temp, mask))\n",
    "plt.axis('off')\n",
    "plt.title(\"LIME Explanation\")\n",
    "plt.show()"
   ]
  },
  {
   "cell_type": "markdown",
   "metadata": {
    "id": "0YRCpIf1tjT8"
   },
   "source": [
    "### Impacto en el desbalance de las clases"
   ]
  },
  {
   "cell_type": "code",
   "execution_count": null,
   "metadata": {
    "colab": {
     "base_uri": "https://localhost:8080/",
     "height": 636
    },
    "id": "RurD-YY3QWil",
    "outputId": "b9e36216-dfef-45f9-8cb2-9bcc7d7e4800"
   },
   "outputs": [],
   "source": [
    "### Proporción de cada clase\n",
    "proportions = {\n",
    "    'CXR': 0.1,\n",
    "    'AbdomenCT': 0.9,\n",
    "    'ChestCT': 0.9,\n",
    "    'HeadCT': 0.8,\n",
    "    'Hand': 0.9,\n",
    "    'BreastMRI': 0.9\n",
    "    }\n",
    "\n",
    "X_filtered = []\n",
    "y_filtered = []\n",
    "\n",
    "for label in classes:\n",
    "  indices = np.where(y_train == label)[0]\n",
    "  num_examples = int(proportions[label] * len(indices))\n",
    "  selected_indices = random.sample(list(indices), num_examples)\n",
    "  X_filtered.extend(X_train[selected_indices])\n",
    "  y_filtered.extend(y_train[selected_indices])\n",
    "\n",
    "# Convertir las listas de nuevo a arrays numpy\n",
    "X_filtered = np.array(X_filtered)\n",
    "y_filtered = np.array(y_filtered)\n",
    "\n",
    "print(X_filtered.shape)\n",
    "print(y_filtered.shape)\n",
    "\n",
    "## OneHotEncodding de las nuevas etiquetas\n",
    "train_labels_bal = np.zeros((y_filtered.shape[0], len(classes)))\n",
    "\n",
    "for i in range(train_labels_bal.shape[0]):\n",
    "  train_labels_bal[i, np.where(classes == y_filtered[i])] = 1\n",
    "\n",
    "# Imprimir el nuevo tamaño del dataset filtrado\n",
    "print(\"Tamaño de X_filtered:\", X_filtered.shape)\n",
    "print(\"Tamaño de y_filtered:\", y_filtered.shape)\n",
    "\n",
    "count_check = dict(Counter(y_filtered))\n",
    "plt.figure(figsize=(8, 6))  # Tamaño de la figura\n",
    "plt.bar(count_check.keys(), count_check.values(), color='skyblue')  # Crear las barras con etiquetas\n",
    "plt.title('Proporción del nuevo set de datos desbalanceado')\n",
    "plt.xlabel('Modalidad')\n",
    "plt.ylabel('Cantidad')\n",
    "plt.show()"
   ]
  },
  {
   "cell_type": "code",
   "execution_count": null,
   "metadata": {
    "colab": {
     "base_uri": "https://localhost:8080/"
    },
    "id": "H0gAk2PUv_Qh",
    "outputId": "e852a6c9-1d0f-4f3f-8a83-09c83172b9d3"
   },
   "outputs": [],
   "source": [
    "## Se instancia un nuevo modelo\n",
    "tf.keras.backend.clear_session()\n",
    "base_model2 = ResNet50(weights='imagenet', include_top=False, input_shape=(64, 64, 3))\n",
    "\n",
    "## Probar manteniendo transferlearning de imagenet versus de novo\n",
    "base_model2.trainable = False\n",
    "\n",
    "x = Flatten()(base_model2.output)\n",
    "x = Dense(1024, activation='relu')(x)\n",
    "output2 = Dense(len(classes), activation='softmax')(x)\n",
    "\n",
    "model_unbal = Model(inputs=base_model2.input, outputs=output2)\n",
    "\n",
    "EPOCHS = 10\n",
    "BATCH_SIZE = 32\n",
    "\n",
    "model_checkpoint_callback = ModelCheckpoint(\n",
    "    filepath=checkpoint_filepath,\n",
    "    save_weights_only=True,\n",
    "    monitor='val_accuracy',\n",
    "    mode='max',\n",
    "    save_best_only=True)\n",
    "\n",
    "## Compilado y entrenamiento\n",
    "model_unbal.compile(optimizer=Adam(learning_rate=LR), loss = 'categorical_crossentropy', metrics=['accuracy', AUC(multi_label=True)])\n",
    "\n",
    "history = model_unbal.fit(X_filtered, train_labels_bal, epochs= EPOCHS, verbose= 1, batch_size= BATCH_SIZE,\n",
    "                validation_data = [X_test, test_labels], shuffle= True,\n",
    "                callbacks=[model_checkpoint_callback,lr_scheduler])\n",
    "\n",
    "model_unbal.load_weights(checkpoint_filepath)\n"
   ]
  },
  {
   "cell_type": "code",
   "execution_count": null,
   "metadata": {
    "colab": {
     "base_uri": "https://localhost:8080/"
    },
    "id": "8KslRsW92PCv",
    "outputId": "42712ddc-7c14-45c0-979a-69b2ebfbe19b"
   },
   "outputs": [],
   "source": [
    "pred_scores = model_unbal.predict(X_test)\n",
    "y_pred = np.where(pred_scores > 0.5, 1, 0)\n",
    "print(classification_report(test_labels, y_pred, target_names = classes))"
   ]
  }
 ],
 "metadata": {
  "accelerator": "GPU",
  "colab": {
   "gpuType": "A100",
   "machine_shape": "hm",
   "provenance": []
  },
  "kernelspec": {
   "display_name": "Python 3 (ipykernel)",
   "language": "python",
   "name": "python3"
  },
  "language_info": {
   "codemirror_mode": {
    "name": "ipython",
    "version": 3
   },
   "file_extension": ".py",
   "mimetype": "text/x-python",
   "name": "python",
   "nbconvert_exporter": "python",
   "pygments_lexer": "ipython3",
   "version": "3.11.9"
  },
  "widgets": {
   "application/vnd.jupyter.widget-state+json": {
    "0405c163553240c1a877882716f08789": {
     "model_module": "@jupyter-widgets/controls",
     "model_module_version": "1.5.0",
     "model_name": "HTMLModel",
     "state": {
      "_dom_classes": [],
      "_model_module": "@jupyter-widgets/controls",
      "_model_module_version": "1.5.0",
      "_model_name": "HTMLModel",
      "_view_count": null,
      "_view_module": "@jupyter-widgets/controls",
      "_view_module_version": "1.5.0",
      "_view_name": "HTMLView",
      "description": "",
      "description_tooltip": null,
      "layout": "IPY_MODEL_c7a58184e3124314ac0efee0cf0c8d9b",
      "placeholder": "​",
      "style": "IPY_MODEL_85c950d94dcf42ca8f361adc3cc2f5a2",
      "value": " 100/100 [00:01&lt;00:00, 81.63it/s]"
     }
    },
    "0ac84a4f76974cdb8386b740f94a92bd": {
     "model_module": "@jupyter-widgets/base",
     "model_module_version": "1.2.0",
     "model_name": "LayoutModel",
     "state": {
      "_model_module": "@jupyter-widgets/base",
      "_model_module_version": "1.2.0",
      "_model_name": "LayoutModel",
      "_view_count": null,
      "_view_module": "@jupyter-widgets/base",
      "_view_module_version": "1.2.0",
      "_view_name": "LayoutView",
      "align_content": null,
      "align_items": null,
      "align_self": null,
      "border": null,
      "bottom": null,
      "display": null,
      "flex": null,
      "flex_flow": null,
      "grid_area": null,
      "grid_auto_columns": null,
      "grid_auto_flow": null,
      "grid_auto_rows": null,
      "grid_column": null,
      "grid_gap": null,
      "grid_row": null,
      "grid_template_areas": null,
      "grid_template_columns": null,
      "grid_template_rows": null,
      "height": null,
      "justify_content": null,
      "justify_items": null,
      "left": null,
      "margin": null,
      "max_height": null,
      "max_width": null,
      "min_height": null,
      "min_width": null,
      "object_fit": null,
      "object_position": null,
      "order": null,
      "overflow": null,
      "overflow_x": null,
      "overflow_y": null,
      "padding": null,
      "right": null,
      "top": null,
      "visibility": null,
      "width": null
     }
    },
    "161f5a92d73949a59c2f3745e9d08d20": {
     "model_module": "@jupyter-widgets/base",
     "model_module_version": "1.2.0",
     "model_name": "LayoutModel",
     "state": {
      "_model_module": "@jupyter-widgets/base",
      "_model_module_version": "1.2.0",
      "_model_name": "LayoutModel",
      "_view_count": null,
      "_view_module": "@jupyter-widgets/base",
      "_view_module_version": "1.2.0",
      "_view_name": "LayoutView",
      "align_content": null,
      "align_items": null,
      "align_self": null,
      "border": null,
      "bottom": null,
      "display": null,
      "flex": null,
      "flex_flow": null,
      "grid_area": null,
      "grid_auto_columns": null,
      "grid_auto_flow": null,
      "grid_auto_rows": null,
      "grid_column": null,
      "grid_gap": null,
      "grid_row": null,
      "grid_template_areas": null,
      "grid_template_columns": null,
      "grid_template_rows": null,
      "height": null,
      "justify_content": null,
      "justify_items": null,
      "left": null,
      "margin": null,
      "max_height": null,
      "max_width": null,
      "min_height": null,
      "min_width": null,
      "object_fit": null,
      "object_position": null,
      "order": null,
      "overflow": null,
      "overflow_x": null,
      "overflow_y": null,
      "padding": null,
      "right": null,
      "top": null,
      "visibility": null,
      "width": null
     }
    },
    "2c69149f758a4f699edbb40cd80aafe5": {
     "model_module": "@jupyter-widgets/base",
     "model_module_version": "1.2.0",
     "model_name": "LayoutModel",
     "state": {
      "_model_module": "@jupyter-widgets/base",
      "_model_module_version": "1.2.0",
      "_model_name": "LayoutModel",
      "_view_count": null,
      "_view_module": "@jupyter-widgets/base",
      "_view_module_version": "1.2.0",
      "_view_name": "LayoutView",
      "align_content": null,
      "align_items": null,
      "align_self": null,
      "border": null,
      "bottom": null,
      "display": null,
      "flex": null,
      "flex_flow": null,
      "grid_area": null,
      "grid_auto_columns": null,
      "grid_auto_flow": null,
      "grid_auto_rows": null,
      "grid_column": null,
      "grid_gap": null,
      "grid_row": null,
      "grid_template_areas": null,
      "grid_template_columns": null,
      "grid_template_rows": null,
      "height": null,
      "justify_content": null,
      "justify_items": null,
      "left": null,
      "margin": null,
      "max_height": null,
      "max_width": null,
      "min_height": null,
      "min_width": null,
      "object_fit": null,
      "object_position": null,
      "order": null,
      "overflow": null,
      "overflow_x": null,
      "overflow_y": null,
      "padding": null,
      "right": null,
      "top": null,
      "visibility": null,
      "width": null
     }
    },
    "7f150428b7be4b9b907d440033052475": {
     "model_module": "@jupyter-widgets/controls",
     "model_module_version": "1.5.0",
     "model_name": "HBoxModel",
     "state": {
      "_dom_classes": [],
      "_model_module": "@jupyter-widgets/controls",
      "_model_module_version": "1.5.0",
      "_model_name": "HBoxModel",
      "_view_count": null,
      "_view_module": "@jupyter-widgets/controls",
      "_view_module_version": "1.5.0",
      "_view_name": "HBoxView",
      "box_style": "",
      "children": [
       "IPY_MODEL_fa8e7c1334b04cbd9a0529d6f735955b",
       "IPY_MODEL_82c9549f06104dbea48b555a86d74d62",
       "IPY_MODEL_0405c163553240c1a877882716f08789"
      ],
      "layout": "IPY_MODEL_2c69149f758a4f699edbb40cd80aafe5"
     }
    },
    "82c9549f06104dbea48b555a86d74d62": {
     "model_module": "@jupyter-widgets/controls",
     "model_module_version": "1.5.0",
     "model_name": "FloatProgressModel",
     "state": {
      "_dom_classes": [],
      "_model_module": "@jupyter-widgets/controls",
      "_model_module_version": "1.5.0",
      "_model_name": "FloatProgressModel",
      "_view_count": null,
      "_view_module": "@jupyter-widgets/controls",
      "_view_module_version": "1.5.0",
      "_view_name": "ProgressView",
      "bar_style": "success",
      "description": "",
      "description_tooltip": null,
      "layout": "IPY_MODEL_0ac84a4f76974cdb8386b740f94a92bd",
      "max": 100,
      "min": 0,
      "orientation": "horizontal",
      "style": "IPY_MODEL_e58f8e563fe2450598388bd0888f8610",
      "value": 100
     }
    },
    "85c950d94dcf42ca8f361adc3cc2f5a2": {
     "model_module": "@jupyter-widgets/controls",
     "model_module_version": "1.5.0",
     "model_name": "DescriptionStyleModel",
     "state": {
      "_model_module": "@jupyter-widgets/controls",
      "_model_module_version": "1.5.0",
      "_model_name": "DescriptionStyleModel",
      "_view_count": null,
      "_view_module": "@jupyter-widgets/base",
      "_view_module_version": "1.2.0",
      "_view_name": "StyleView",
      "description_width": ""
     }
    },
    "8b937a45be624b7c904462b0e050af00": {
     "model_module": "@jupyter-widgets/controls",
     "model_module_version": "1.5.0",
     "model_name": "DescriptionStyleModel",
     "state": {
      "_model_module": "@jupyter-widgets/controls",
      "_model_module_version": "1.5.0",
      "_model_name": "DescriptionStyleModel",
      "_view_count": null,
      "_view_module": "@jupyter-widgets/base",
      "_view_module_version": "1.2.0",
      "_view_name": "StyleView",
      "description_width": ""
     }
    },
    "c7a58184e3124314ac0efee0cf0c8d9b": {
     "model_module": "@jupyter-widgets/base",
     "model_module_version": "1.2.0",
     "model_name": "LayoutModel",
     "state": {
      "_model_module": "@jupyter-widgets/base",
      "_model_module_version": "1.2.0",
      "_model_name": "LayoutModel",
      "_view_count": null,
      "_view_module": "@jupyter-widgets/base",
      "_view_module_version": "1.2.0",
      "_view_name": "LayoutView",
      "align_content": null,
      "align_items": null,
      "align_self": null,
      "border": null,
      "bottom": null,
      "display": null,
      "flex": null,
      "flex_flow": null,
      "grid_area": null,
      "grid_auto_columns": null,
      "grid_auto_flow": null,
      "grid_auto_rows": null,
      "grid_column": null,
      "grid_gap": null,
      "grid_row": null,
      "grid_template_areas": null,
      "grid_template_columns": null,
      "grid_template_rows": null,
      "height": null,
      "justify_content": null,
      "justify_items": null,
      "left": null,
      "margin": null,
      "max_height": null,
      "max_width": null,
      "min_height": null,
      "min_width": null,
      "object_fit": null,
      "object_position": null,
      "order": null,
      "overflow": null,
      "overflow_x": null,
      "overflow_y": null,
      "padding": null,
      "right": null,
      "top": null,
      "visibility": null,
      "width": null
     }
    },
    "e58f8e563fe2450598388bd0888f8610": {
     "model_module": "@jupyter-widgets/controls",
     "model_module_version": "1.5.0",
     "model_name": "ProgressStyleModel",
     "state": {
      "_model_module": "@jupyter-widgets/controls",
      "_model_module_version": "1.5.0",
      "_model_name": "ProgressStyleModel",
      "_view_count": null,
      "_view_module": "@jupyter-widgets/base",
      "_view_module_version": "1.2.0",
      "_view_name": "StyleView",
      "bar_color": null,
      "description_width": ""
     }
    },
    "fa8e7c1334b04cbd9a0529d6f735955b": {
     "model_module": "@jupyter-widgets/controls",
     "model_module_version": "1.5.0",
     "model_name": "HTMLModel",
     "state": {
      "_dom_classes": [],
      "_model_module": "@jupyter-widgets/controls",
      "_model_module_version": "1.5.0",
      "_model_name": "HTMLModel",
      "_view_count": null,
      "_view_module": "@jupyter-widgets/controls",
      "_view_module_version": "1.5.0",
      "_view_name": "HTMLView",
      "description": "",
      "description_tooltip": null,
      "layout": "IPY_MODEL_161f5a92d73949a59c2f3745e9d08d20",
      "placeholder": "​",
      "style": "IPY_MODEL_8b937a45be624b7c904462b0e050af00",
      "value": "100%"
     }
    }
   }
  }
 },
 "nbformat": 4,
 "nbformat_minor": 4
}
