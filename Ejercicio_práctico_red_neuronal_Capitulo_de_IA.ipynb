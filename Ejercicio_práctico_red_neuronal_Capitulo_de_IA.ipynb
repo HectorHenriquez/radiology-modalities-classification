{
 "cells": [
  {
   "cell_type": "markdown",
   "metadata": {
    "id": "XbsqYtD999uI"
   },
   "source": [
    "# Taller teórico - práctico sobre redes neuronales\n",
    "\n",
    "Dr. Héctor Henríquez Leighton\n",
    "\n"
   ]
  },
  {
   "cell_type": "code",
   "execution_count": null,
   "metadata": {
    "id": "GYpsXs1KIjVz"
   },
   "outputs": [],
   "source": [
    "!pip3 install keras-visualizer"
   ]
  },
  {
   "cell_type": "code",
   "execution_count": null,
   "metadata": {
    "id": "zjzgsf1mB6Y1"
   },
   "outputs": [],
   "source": [
    "## Herramientas generales\n",
    "import numpy as np \n",
    "import math\n",
    "import matplotlib.pyplot as plt\n",
    "from sklearn.model_selection import train_test_split\n",
    "from sklearn.metrics import classification_report\n",
    "import cv2\n",
    "import os\n",
    "\n",
    "## Construcción de modelos\n",
    "import tensorflow as tf\n",
    "from keras import backend as K\n",
    "from tensorflow.keras.preprocessing import image\n",
    "from tensorflow.keras.preprocessing.image import ImageDataGenerator\n",
    "from tensorflow.keras.models import Model, load_model, Sequential\n",
    "from tensorflow.keras.layers import Dense, GlobalAveragePooling2D, Flatten, Dropout, Input, Conv2D, MaxPooling2D, Flatten\n",
    "from tensorflow.keras.optimizers import Adam\n",
    "from tensorflow.keras.utils import plot_model\n",
    "from tensorflow.keras.callbacks import ModelCheckpoint, LearningRateScheduler\n",
    "#from tensorflow.keras import regularizers\n",
    "#from tensorflow.keras.regularizers import l1, l2\n",
    "from keras_visualizer import visualizer\n",
    "\n",
    "import warnings\n",
    "warnings.filterwarnings('ignore')"
   ]
  },
  {
   "cell_type": "code",
   "execution_count": null,
   "metadata": {
    "id": "WZDi0Gma-tfj"
   },
   "outputs": [],
   "source": [
    "def read_images(path_dir):\n",
    "  images = []\n",
    "  labels = []\n",
    "  for modality in os.listdir(path_dir):\n",
    "    modality_dir = os.path.join(path_dir, modality)\n",
    "    for exam in os.listdir(modality_dir):\n",
    "      image = cv2.imread(os.path.join(modality_dir, exam))\n",
    "      #image = cv2.resize(image, (32, 32),interpolation = cv2.INTER_LINEAR)\n",
    "      images.append(image)\n",
    "      labels.append(modality)\n",
    "  images = np.array(images)\n",
    "  labels = np.array(labels)\n",
    "  return(images, labels)\n",
    "    \n",
    "def MapaActivacion(img_tensor, modelo):\n",
    "    \n",
    "    grad_model = tf.keras.models.Model(\n",
    "          [model.inputs], [model.get_layer('conv2d_1').output, model.output])\n",
    "\n",
    "    with tf.GradientTape() as tape:\n",
    "        last_conv_layer_output, preds = grad_model([img_tensor])\n",
    "        pred_index = tf.argmax(preds[0])\n",
    "        class_channel = preds[:, pred_index]\n",
    "    grads = tape.gradient(class_channel, last_conv_layer_output)\n",
    "    pooled_grads = tf.reduce_mean(grads, axis=(0, 1, 2))\n",
    "    last_conv_layer_output = last_conv_layer_output[0]\n",
    "    heatmap = last_conv_layer_output @ pooled_grads[..., tf.newaxis]\n",
    "    heatmap = tf.squeeze(heatmap)\n",
    "    heatmap = tf.maximum(heatmap, 0) / tf.math.reduce_max(heatmap)\n",
    "    heatmap_array =np.array(heatmap)\n",
    "    heatmap_resize = cv2.resize(heatmap_array, (img_tensor.shape[2],img_tensor.shape[1]),\n",
    "               interpolation = cv2.INTER_CUBIC)\n",
    "    heatmap_color = cv2.applyColorMap(np.uint8(255*heatmap_resize), cv2.COLORMAP_HSV) \n",
    "\n",
    "  \n",
    "    return(heatmap_array, heatmap_color)"
   ]
  },
  {
   "cell_type": "code",
   "execution_count": null,
   "metadata": {
    "colab": {
     "base_uri": "https://localhost:8080/"
    },
    "id": "5bbgkWAQGlW-",
    "outputId": "4920fd0e-cab4-48fa-ece0-08d5be3412e6"
   },
   "outputs": [],
   "source": [
    "!wget -N \"https://cainvas-static.s3.amazonaws.com/media/user_data/cainvas-admin/MedNIST.zip\"\n",
    "!unzip -qo \"MedNIST.zip\"\n",
    "!rm \"MedNIST.zip\"\n",
    "train_dir = '/content/Medical/Medical_train'\n",
    "test_dir =  '/content/Medical/Medical_test'\n",
    "classes = os.listdir(train_dir)\n",
    "classes = np.array(classes)\n",
    "print(\"Clases de estudios:\", classes)"
   ]
  },
  {
   "cell_type": "code",
   "execution_count": null,
   "metadata": {
    "colab": {
     "base_uri": "https://localhost:8080/"
    },
    "id": "tIl8VjaPHKQA",
    "outputId": "b9551a77-7b4a-4c3e-97d9-35ac86e5e78b"
   },
   "outputs": [],
   "source": [
    "for modality in os.listdir(train_dir):\n",
    "  modality_dir = os.path.join(train_dir, modality)\n",
    "  print(\"Numero de estudios para la clase {}: {}\".format(modality, len(os.listdir(modality_dir))))"
   ]
  },
  {
   "cell_type": "markdown",
   "metadata": {
    "id": "UFrynG-kOoTb"
   },
   "source": [
    "## Lectura de las imágenes"
   ]
  },
  {
   "cell_type": "code",
   "execution_count": null,
   "metadata": {
    "colab": {
     "base_uri": "https://localhost:8080/"
    },
    "id": "_zVPjMXbKl1_",
    "outputId": "1eae1d75-43bf-4655-9045-90b6ac906e77"
   },
   "outputs": [],
   "source": [
    "X_train, y_train = read_images(train_dir)\n",
    "X_test, y_test = read_images(test_dir)\n",
    "X_train = (X_train/255).astype('float32')\n",
    "X_test = (X_test/255).astype('float32')\n",
    "\n",
    "print(X_train.shape)\n",
    "print(y_train.shape)\n",
    "print(X_test.shape)\n",
    "print(y_test.shape)"
   ]
  },
  {
   "cell_type": "code",
   "execution_count": null,
   "metadata": {
    "colab": {
     "base_uri": "https://localhost:8080/",
     "height": 823
    },
    "id": "7rLBMKSE-01f",
    "outputId": "d5ae8f28-8cea-44ab-a04d-a9cdc8f4d2e4"
   },
   "outputs": [],
   "source": [
    "ROWS = 8\n",
    "fig, axes1 = plt.subplots(ROWS,ROWS,figsize=(10,10))\n",
    "for j in range(ROWS):\n",
    "    for k in range(ROWS):\n",
    "        i = np.random.randint(0, X_train.shape[0])\n",
    "        axes1[j][k].set_axis_off()\n",
    "        axes1[j][k].imshow(X_train[i,:,:,:], cmap='gray')\n",
    "        axes1[j][k].set_title(y_train[i], size=8)\n",
    "      "
   ]
  },
  {
   "cell_type": "code",
   "execution_count": null,
   "metadata": {
    "colab": {
     "base_uri": "https://localhost:8080/",
     "height": 669
    },
    "id": "G8QGKPaGdDP3",
    "outputId": "3678e364-0489-4d1a-8c33-4c10173cca60"
   },
   "outputs": [],
   "source": [
    "## Visualización por modalidad\n",
    "#'Hand' 'BreastMRI' 'ChestCT' 'HeadCT' 'AbdomenCT' 'CXR'\n",
    "\n",
    "modality = 'HeadCT'\n",
    "\n",
    "ROWS = 4\n",
    "fig, axes1 = plt.subplots(ROWS,ROWS,figsize=(8,8))\n",
    "for j in range(ROWS):\n",
    "    for k in range(ROWS):\n",
    "        i = np.random.randint(0, X_train[np.where(y_train == modality)].shape[0])\n",
    "        axes1[j][k].set_axis_off()\n",
    "        axes1[j][k].imshow(X_train[np.where(y_train == modality)][i,:,:,:], cmap='gray')\n",
    "        axes1[j][k].set_title(modality, size=8)\n",
    "      "
   ]
  },
  {
   "cell_type": "code",
   "execution_count": null,
   "metadata": {
    "id": "0JPnO0abJijl"
   },
   "outputs": [],
   "source": [
    "### Preprocesamiento de etiquetas\n",
    "\n",
    "train_labels = np.zeros((y_train.shape[0], len(classes)))\n",
    "test_labels = np.zeros((y_test.shape[0], len(classes)))\n",
    "\n",
    "for i in range(train_labels.shape[0]):\n",
    "  train_labels[i, np.where(classes == y_train[i])] = 1\n",
    "\n",
    "for i in range(test_labels.shape[0]):\n",
    "  test_labels[i, np.where(classes == y_test[i])] = 1\n",
    "  "
   ]
  },
  {
   "cell_type": "markdown",
   "metadata": {
    "id": "I_-Z_nnDCq66"
   },
   "source": [
    "### Construcción Modelo de red neuronal convolucional"
   ]
  },
  {
   "cell_type": "code",
   "execution_count": null,
   "metadata": {
    "colab": {
     "base_uri": "https://localhost:8080/"
    },
    "id": "c3nmeui5CprY",
    "outputId": "115ca564-529e-4961-84a9-1852c7c62c3c"
   },
   "outputs": [],
   "source": [
    "tf.keras.backend.clear_session()\n",
    "\n",
    "model = Sequential()\n",
    "\n",
    "model.add(Conv2D(16, (3, 3), activation='relu', input_shape=(X_train.shape[1], X_train.shape[2], 3)))\n",
    "model.add(MaxPooling2D((2, 2)))\n",
    "model.add(Conv2D(64, (3, 3), activation='relu'))\n",
    "model.add(MaxPooling2D((2, 2)))\n",
    "model.add(Flatten())\n",
    "model.add(Dense(32, activation='relu'))\n",
    "model.add(Dense(classes.shape[0], activation='softmax'))\n",
    "\n",
    "model.summary()"
   ]
  },
  {
   "cell_type": "code",
   "execution_count": null,
   "metadata": {
    "id": "7TZdCXZO5vHR"
   },
   "outputs": [],
   "source": [
    "## Visualizando la red neuronal\n",
    "visualizer(model, file_name='graph2', file_format='png', view=False, settings=None)"
   ]
  },
  {
   "cell_type": "code",
   "execution_count": null,
   "metadata": {
    "colab": {
     "base_uri": "https://localhost:8080/"
    },
    "id": "g5oVQiJIIiZ8",
    "outputId": "3362cf7f-93e4-4b95-89a7-b4ffd8ebaf90"
   },
   "outputs": [],
   "source": [
    "## Hiperparámetros:\n",
    "EPOCHS = 2\n",
    "BATCH_SIZE = 32\n",
    "LR = 0.005\n",
    "\n",
    "### Configuración de Callbacks:\n",
    "def scheduler(epoch, learning_rate):\n",
    "    if epoch < 3:\n",
    "        return learning_rate\n",
    "    else:\n",
    "        return learning_rate * tf.math.exp(-0.05)\n",
    "lr_scheduler = LearningRateScheduler(scheduler)\n",
    "\n",
    "checkpoint_filepath = './checkpoint'\n",
    "model_checkpoint_callback = ModelCheckpoint(\n",
    "    filepath=checkpoint_filepath,\n",
    "    save_weights_only=True,\n",
    "    monitor='val_accuracy',\n",
    "    mode='max',\n",
    "    save_best_only=True)\n",
    "\n",
    "## Compilado y entrenamiento\n",
    "model.compile(optimizer=Adam(learning_rate=LR), loss = 'binary_crossentropy', metrics='accuracy')\n",
    "history = model.fit(X_train, train_labels, epochs= EPOCHS, verbose= 1, batch_size= BATCH_SIZE, \n",
    "                validation_data=(X_test, test_labels), shuffle= True,\n",
    "                callbacks=[model_checkpoint_callback,lr_scheduler])\n"
   ]
  },
  {
   "cell_type": "code",
   "execution_count": null,
   "metadata": {
    "colab": {
     "base_uri": "https://localhost:8080/",
     "height": 887
    },
    "id": "u49msB0WVUJH",
    "outputId": "74fd80f1-e913-4b5c-889a-a794eea3862e"
   },
   "outputs": [],
   "source": [
    "accuracy = history.history['accuracy']\n",
    "val_accuracy = history.history['val_accuracy']\n",
    "loss = history.history['loss']\n",
    "val_loss = history.history['val_loss']\n",
    "\n",
    "epochs = range(len(loss))\n",
    "\n",
    "plt.plot(epochs, accuracy, 'bo', label='Training accuracy', color='salmon')\n",
    "plt.plot(epochs, val_accuracy, 'b', label='Validation accuracy', color='dodgerblue')\n",
    "plt.title('Training and validation accuracy')\n",
    "plt.legend()\n",
    "plt.show()\n",
    "\n",
    "plt.plot(epochs, loss, 'bo', label='Training loss', color='salmon')\n",
    "plt.plot(epochs, val_loss, 'b', label='Validation loss', color='dodgerblue')\n",
    "plt.title('Training and validation loss')\n",
    "plt.legend()\n",
    "plt.show()"
   ]
  },
  {
   "cell_type": "markdown",
   "metadata": {
    "id": "tKqbA8QWR7M3"
   },
   "source": [
    "### Probando el modelo"
   ]
  },
  {
   "cell_type": "code",
   "execution_count": null,
   "metadata": {
    "colab": {
     "base_uri": "https://localhost:8080/"
    },
    "id": "GP2xB-JeSC_u",
    "outputId": "4649d928-dcdc-42d7-a6f5-3c91c98253a6"
   },
   "outputs": [],
   "source": [
    "pred_scores = model.predict(X_test)\n",
    "y_pred = np.where(pred_scores > 0.5, 1, 0)\n",
    "print(classification_report(test_labels, y_pred, target_names = classes))"
   ]
  },
  {
   "cell_type": "code",
   "execution_count": null,
   "metadata": {
    "colab": {
     "base_uri": "https://localhost:8080/",
     "height": 453
    },
    "id": "ON2gcTeGU-NO",
    "outputId": "03bbaa83-a3ea-42ad-b536-6387b5490f87"
   },
   "outputs": [],
   "source": [
    "numero = np.random.randint(0, X_test.shape[0])\n",
    "print('caso Test:', numero)\n",
    "\n",
    "img = X_test[numero]\n",
    "img_tensor = np.expand_dims(img, axis=0) \n",
    "\n",
    "prediccion = model.predict(img_tensor)\n",
    "print(\"vector de predicción:\", prediccion)\n",
    "print(\". \" *3)\n",
    "print(\"Respuesta correcta:\",classes[np.argmax(test_labels[numero])] )\n",
    "print(\"Predicción del modelo:\", classes[np.argmax(prediccion)])\n",
    "print(\". \" *3)\n",
    "\n",
    "heatmap_array, heatmap_resized = MapaActivacion(img_tensor, model)\n",
    "\n",
    "f = plt.figure(figsize=(10,10), frameon=False)\n",
    "\n",
    "f.add_subplot(1, 3, 1)\n",
    "plt.title(\"imagen original\")\n",
    "plt.imshow(img.reshape(img.shape[0],img.shape[1],3), cmap='gray')\n",
    "\n",
    "f.add_subplot(1, 3, 2)\n",
    "plt.title(\"Mapa de Activación\")\n",
    "plt.imshow(heatmap_array, cmap='gnuplot', interpolation='gaussian')\n",
    "\n",
    "f.add_subplot(1, 3, 3)\n",
    "plt.title(\"Fusión\")\n",
    "plt.imshow(img, cmap='gnuplot')\n",
    "plt.imshow(heatmap_resized, cmap='gnuplot',alpha=0.3)\n",
    "\n",
    "plt.show()"
   ]
  }
 ],
 "metadata": {
  "colab": {
   "provenance": []
  },
  "gpuClass": "standard",
  "kernelspec": {
   "display_name": "Python 3 (ipykernel)",
   "language": "python",
   "name": "python3"
  },
  "language_info": {
   "codemirror_mode": {
    "name": "ipython",
    "version": 3
   },
   "file_extension": ".py",
   "mimetype": "text/x-python",
   "name": "python",
   "nbconvert_exporter": "python",
   "pygments_lexer": "ipython3",
   "version": "3.9.13"
  }
 },
 "nbformat": 4,
 "nbformat_minor": 4
}
